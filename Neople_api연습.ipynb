{
 "cells": [
  {
   "cell_type": "code",
   "execution_count": 99,
   "id": "67c2b69b-1201-43de-9b9a-72ba34b6e4fa",
   "metadata": {},
   "outputs": [],
   "source": [
    "import requests\n",
    "import json\n",
    "import pandas as pd"
   ]
  },
  {
   "cell_type": "code",
   "execution_count": 26,
   "id": "da5000d3-aedf-4918-ba4c-945ae626c4b6",
   "metadata": {},
   "outputs": [
    {
     "data": {
      "text/plain": [
       "{'rows': [{'serverId': 'cain',\n",
       "   'characterId': 'bc2df3649e63a020a23152d1d1f04598',\n",
       "   'characterName': '보랏달',\n",
       "   'level': 110,\n",
       "   'jobId': '41f1cdc2ff58bb5fdc287be0db2a8df3',\n",
       "   'jobGrowId': '618326026de1a1f1cfba5dbd0b8396e7',\n",
       "   'jobName': '귀검사(남)',\n",
       "   'jobGrowName': '眞 소울브링어'}]}"
      ]
     },
     "execution_count": 26,
     "metadata": {},
     "output_type": "execute_result"
    }
   ],
   "source": [
    "url = \"https://api.neople.co.kr/df/servers/{}/characters?characterName={}&apikey={}\"\\\n",
    "    .format(serverId, characterId_encoded, APIKEY)\n",
    "req = http.request('GET', url)\n",
    "character_info = loads(req.data.decode('utf-8'))\n",
    "character_info"
   ]
  },
  {
   "cell_type": "code",
   "execution_count": 97,
   "id": "ef677071-faff-445f-bf30-cd091de6ea7c",
   "metadata": {},
   "outputs": [
    {
     "data": {
      "text/plain": [
       "{'rows': [{'serverId': 'cain',\n",
       "   'characterId': 'bc2df3649e63a020a23152d1d1f04598',\n",
       "   'characterName': '보랏달',\n",
       "   'level': 110,\n",
       "   'jobId': '41f1cdc2ff58bb5fdc287be0db2a8df3',\n",
       "   'jobGrowId': '618326026de1a1f1cfba5dbd0b8396e7',\n",
       "   'jobName': '귀검사(남)',\n",
       "   'jobGrowName': '眞 소울브링어'}]}"
      ]
     },
     "execution_count": 97,
     "metadata": {},
     "output_type": "execute_result"
    }
   ],
   "source": [
    "APIKEY = 'kNmTp2mebpjBykLw8aubHUYRWVm8XHjN'\n",
    "serverId = 'cain'\n",
    "characterId_encoded = '%eb%b3%b4%eb%9e%8f%eb%8b%ac' \n",
    "\n",
    "url = \"https://api.neople.co.kr/df/servers/{}/characters?characterName={}&apikey={}\".format(serverId, characterId_encoded, APIKEY)\n",
    "req = requests.get(url)\n",
    "answer = req.json()\n",
    "answer"
   ]
  },
  {
   "cell_type": "code",
   "execution_count": 84,
   "id": "2d1ebf7f-e40c-4fa6-8170-bb78990de3ac",
   "metadata": {},
   "outputs": [
    {
     "data": {
      "text/plain": [
       "[{'serverId': 'cain',\n",
       "  'characterId': 'bc2df3649e63a020a23152d1d1f04598',\n",
       "  'characterName': '보랏달',\n",
       "  'level': 110,\n",
       "  'jobId': '41f1cdc2ff58bb5fdc287be0db2a8df3',\n",
       "  'jobGrowId': '618326026de1a1f1cfba5dbd0b8396e7',\n",
       "  'jobName': '귀검사(남)',\n",
       "  'jobGrowName': '眞 소울브링어'}]"
      ]
     },
     "execution_count": 84,
     "metadata": {},
     "output_type": "execute_result"
    }
   ],
   "source": [
    "answer['rows']"
   ]
  },
  {
   "cell_type": "code",
   "execution_count": 95,
   "id": "d83a9b60-ebee-4585-86d3-a2aafd50e293",
   "metadata": {},
   "outputs": [
    {
     "data": {
      "text/plain": [
       "'bc2df3649e63a020a23152d1d1f04598'"
      ]
     },
     "execution_count": 95,
     "metadata": {},
     "output_type": "execute_result"
    }
   ],
   "source": [
    "dict = (item['characterId'] for item in answer['rows'])\n",
    "char_id = next(dict, False)\n",
    "char_id"
   ]
  },
  {
   "cell_type": "code",
   "execution_count": 98,
   "id": "e05bd885-488e-4fa2-bb24-e29b66271cd6",
   "metadata": {
    "scrolled": true,
    "tags": []
   },
   "outputs": [
    {
     "data": {
      "text/plain": [
       "{'characterId': 'bc2df3649e63a020a23152d1d1f04598',\n",
       " 'characterName': '보랏달',\n",
       " 'level': 110,\n",
       " 'jobId': '41f1cdc2ff58bb5fdc287be0db2a8df3',\n",
       " 'jobGrowId': '618326026de1a1f1cfba5dbd0b8396e7',\n",
       " 'jobName': '귀검사(남)',\n",
       " 'jobGrowName': '眞 소울브링어',\n",
       " 'adventureName': '보랏원정대',\n",
       " 'guildId': '8ab3c82906539ca7ba93508a4c8e11f6',\n",
       " 'guildName': '4월의벚꽃',\n",
       " 'buff': [{'name': '모험단 버프',\n",
       "   'level': 38,\n",
       "   'status': [{'name': '힘', 'value': 280},\n",
       "    {'name': '지능', 'value': 280},\n",
       "    {'name': '체력', 'value': 280},\n",
       "    {'name': '정신력', 'value': 280}]},\n",
       "  {'name': '무제한 길드능력치',\n",
       "   'status': [{'name': '힘', 'value': 30},\n",
       "    {'name': '지능', 'value': 30},\n",
       "    {'name': '체력', 'value': 30},\n",
       "    {'name': '정신력', 'value': 30}]},\n",
       "  {'name': '기간제 길드능력치',\n",
       "   'status': [{'name': '힘', 'value': 30},\n",
       "    {'name': '지능', 'value': 30},\n",
       "    {'name': '체력', 'value': 30},\n",
       "    {'name': '정신력', 'value': 30}]}],\n",
       " 'status': [{'name': 'HP', 'value': 123072},\n",
       "  {'name': 'MP', 'value': 101328},\n",
       "  {'name': '물리 방어율', 'value': 31.4},\n",
       "  {'name': '마법 방어율', 'value': 38.5},\n",
       "  {'name': '힘', 'value': 3153},\n",
       "  {'name': '지능', 'value': 5295},\n",
       "  {'name': '체력', 'value': 3491},\n",
       "  {'name': '정신력', 'value': 3491},\n",
       "  {'name': '물리 공격', 'value': 3698},\n",
       "  {'name': '마법 공격', 'value': 3905},\n",
       "  {'name': '물리 크리티컬', 'value': 50},\n",
       "  {'name': '마법 크리티컬', 'value': 96.5},\n",
       "  {'name': '독립 공격', 'value': 2611},\n",
       "  {'name': '공격 속도', 'value': 34},\n",
       "  {'name': '캐스팅 속도', 'value': 74.8},\n",
       "  {'name': '이동 속도', 'value': 53},\n",
       "  {'name': '모험가 명성', 'value': 46675},\n",
       "  {'name': '적중률', 'value': 34.5},\n",
       "  {'name': '회피율', 'value': 5},\n",
       "  {'name': 'HP 회복량', 'value': 8232},\n",
       "  {'name': 'MP 회복량', 'value': 8841},\n",
       "  {'name': '경직도', 'value': 0},\n",
       "  {'name': '히트리커버리', 'value': 796},\n",
       "  {'name': '화속성 강화', 'value': 166},\n",
       "  {'name': '화속성 저항', 'value': 49},\n",
       "  {'name': '수속성 강화', 'value': 201},\n",
       "  {'name': '수속성 저항', 'value': 49},\n",
       "  {'name': '명속성 강화', 'value': 251},\n",
       "  {'name': '명속성 저항', 'value': 19},\n",
       "  {'name': '암속성 강화', 'value': 299},\n",
       "  {'name': '암속성 저항', 'value': 164},\n",
       "  {'name': '물리 방어', 'value': 45788},\n",
       "  {'name': '마법 방어', 'value': 62688},\n",
       "  {'name': '피해 증가', 'value': 166564},\n",
       "  {'name': '버프력', 'value': 0},\n",
       "  {'name': '피해 증가 %', 'value': 44},\n",
       "  {'name': '버프력 %', 'value': 0},\n",
       "  {'name': '스킬 공격력 증가', 'value': 1275.6},\n",
       "  {'name': '쿨타임 감소', 'value': 0},\n",
       "  {'name': '쿨타임 회복속도 증가', 'value': 0},\n",
       "  {'name': '쿨타임 감소 실적용', 'value': 0},\n",
       "  {'name': '데미지 증가', 'value': 0},\n",
       "  {'name': '크리티컬 데미지 증가', 'value': 0},\n",
       "  {'name': '추가 데미지 증가', 'value': 0},\n",
       "  {'name': '모든 공격력 증가', 'value': 0},\n",
       "  {'name': '물리 공격력 증가', 'value': 0},\n",
       "  {'name': '마법 공격력 증가', 'value': 0},\n",
       "  {'name': '독립 공격력 증가', 'value': 0},\n",
       "  {'name': '힘 증가', 'value': 0},\n",
       "  {'name': '지능 증가', 'value': 0},\n",
       "  {'name': '지속피해', 'value': 0},\n",
       "  {'name': '물리 피해 감소', 'value': 0},\n",
       "  {'name': '마법 피해 감소', 'value': 0},\n",
       "  {'name': '출혈 데미지 전환', 'value': 50},\n",
       "  {'name': '중독 데미지 전환', 'value': 0},\n",
       "  {'name': '화상 데미지 전환', 'value': 0},\n",
       "  {'name': '감전 데미지 전환', 'value': 0},\n",
       "  {'name': '출혈 내성', 'value': -10},\n",
       "  {'name': '중독 내성', 'value': 15},\n",
       "  {'name': '화상 내성', 'value': 0},\n",
       "  {'name': '감전 내성', 'value': 0},\n",
       "  {'name': '빙결 내성', 'value': 0},\n",
       "  {'name': '둔화 내성', 'value': 10},\n",
       "  {'name': '기절 내성', 'value': 0},\n",
       "  {'name': '저주 내성', 'value': 10},\n",
       "  {'name': '암흑 내성', 'value': 0},\n",
       "  {'name': '석화 내성', 'value': 0},\n",
       "  {'name': '수면 내성', 'value': 0},\n",
       "  {'name': '혼란 내성', 'value': 0},\n",
       "  {'name': '구속 내성', 'value': 10}]}"
      ]
     },
     "execution_count": 98,
     "metadata": {},
     "output_type": "execute_result"
    }
   ],
   "source": [
    "url = 'https://api.neople.co.kr/df/servers/{}/characters/{}/status?apikey={}'.format(serverId, char_id, APIKEY)\n",
    "req = requests.get(url)\n",
    "b = req.json()\n",
    "b"
   ]
  },
  {
   "cell_type": "code",
   "execution_count": 102,
   "id": "b1021b97-0ad1-4609-8cbe-7ed8015d432c",
   "metadata": {},
   "outputs": [
    {
     "data": {
      "text/html": [
       "<div>\n",
       "<style scoped>\n",
       "    .dataframe tbody tr th:only-of-type {\n",
       "        vertical-align: middle;\n",
       "    }\n",
       "\n",
       "    .dataframe tbody tr th {\n",
       "        vertical-align: top;\n",
       "    }\n",
       "\n",
       "    .dataframe thead th {\n",
       "        text-align: right;\n",
       "    }\n",
       "</style>\n",
       "<table border=\"1\" class=\"dataframe\">\n",
       "  <thead>\n",
       "    <tr style=\"text-align: right;\">\n",
       "      <th></th>\n",
       "      <th>0</th>\n",
       "    </tr>\n",
       "  </thead>\n",
       "  <tbody>\n",
       "    <tr>\n",
       "      <th>characterId</th>\n",
       "      <td>bc2df3649e63a020a23152d1d1f04598</td>\n",
       "    </tr>\n",
       "    <tr>\n",
       "      <th>characterName</th>\n",
       "      <td>보랏달</td>\n",
       "    </tr>\n",
       "    <tr>\n",
       "      <th>level</th>\n",
       "      <td>110</td>\n",
       "    </tr>\n",
       "    <tr>\n",
       "      <th>jobId</th>\n",
       "      <td>41f1cdc2ff58bb5fdc287be0db2a8df3</td>\n",
       "    </tr>\n",
       "    <tr>\n",
       "      <th>jobGrowId</th>\n",
       "      <td>618326026de1a1f1cfba5dbd0b8396e7</td>\n",
       "    </tr>\n",
       "    <tr>\n",
       "      <th>jobName</th>\n",
       "      <td>귀검사(남)</td>\n",
       "    </tr>\n",
       "    <tr>\n",
       "      <th>jobGrowName</th>\n",
       "      <td>眞 소울브링어</td>\n",
       "    </tr>\n",
       "    <tr>\n",
       "      <th>adventureName</th>\n",
       "      <td>보랏원정대</td>\n",
       "    </tr>\n",
       "    <tr>\n",
       "      <th>guildId</th>\n",
       "      <td>8ab3c82906539ca7ba93508a4c8e11f6</td>\n",
       "    </tr>\n",
       "    <tr>\n",
       "      <th>guildName</th>\n",
       "      <td>4월의벚꽃</td>\n",
       "    </tr>\n",
       "    <tr>\n",
       "      <th>buff</th>\n",
       "      <td>[{'name': '모험단 버프', 'level': 38, 'status': [{'...</td>\n",
       "    </tr>\n",
       "    <tr>\n",
       "      <th>status</th>\n",
       "      <td>[{'name': 'HP', 'value': 123072}, {'name': 'MP...</td>\n",
       "    </tr>\n",
       "  </tbody>\n",
       "</table>\n",
       "</div>"
      ],
      "text/plain": [
       "                                                               0\n",
       "characterId                     bc2df3649e63a020a23152d1d1f04598\n",
       "characterName                                                보랏달\n",
       "level                                                        110\n",
       "jobId                           41f1cdc2ff58bb5fdc287be0db2a8df3\n",
       "jobGrowId                       618326026de1a1f1cfba5dbd0b8396e7\n",
       "jobName                                                   귀검사(남)\n",
       "jobGrowName                                              眞 소울브링어\n",
       "adventureName                                              보랏원정대\n",
       "guildId                         8ab3c82906539ca7ba93508a4c8e11f6\n",
       "guildName                                                  4월의벚꽃\n",
       "buff           [{'name': '모험단 버프', 'level': 38, 'status': [{'...\n",
       "status         [{'name': 'HP', 'value': 123072}, {'name': 'MP..."
      ]
     },
     "execution_count": 102,
     "metadata": {},
     "output_type": "execute_result"
    }
   ],
   "source": [
    "test_df = pd.DataFrame.from_dict(b, orient='index')\n",
    "test_df"
   ]
  },
  {
   "cell_type": "code",
   "execution_count": 107,
   "id": "bd02d7aa-e4d0-46c7-921c-129f3ecdf48d",
   "metadata": {},
   "outputs": [
    {
     "name": "stdout",
     "output_type": "stream",
     "text": [
      "{'name': 'HP', 'value': 123072}\n",
      "{'name': 'MP', 'value': 101328}\n",
      "{'name': '물리 방어율', 'value': 31.4}\n",
      "{'name': '마법 방어율', 'value': 38.5}\n",
      "{'name': '힘', 'value': 3153}\n",
      "{'name': '지능', 'value': 5295}\n",
      "{'name': '체력', 'value': 3491}\n",
      "{'name': '정신력', 'value': 3491}\n",
      "{'name': '물리 공격', 'value': 3698}\n",
      "{'name': '마법 공격', 'value': 3905}\n",
      "{'name': '물리 크리티컬', 'value': 50}\n",
      "{'name': '마법 크리티컬', 'value': 96.5}\n",
      "{'name': '독립 공격', 'value': 2611}\n",
      "{'name': '공격 속도', 'value': 34}\n",
      "{'name': '캐스팅 속도', 'value': 74.8}\n",
      "{'name': '이동 속도', 'value': 53}\n",
      "{'name': '모험가 명성', 'value': 46675}\n",
      "{'name': '적중률', 'value': 34.5}\n",
      "{'name': '회피율', 'value': 5}\n",
      "{'name': 'HP 회복량', 'value': 8232}\n",
      "{'name': 'MP 회복량', 'value': 8841}\n",
      "{'name': '경직도', 'value': 0}\n",
      "{'name': '히트리커버리', 'value': 796}\n",
      "{'name': '화속성 강화', 'value': 166}\n",
      "{'name': '화속성 저항', 'value': 49}\n",
      "{'name': '수속성 강화', 'value': 201}\n",
      "{'name': '수속성 저항', 'value': 49}\n",
      "{'name': '명속성 강화', 'value': 251}\n",
      "{'name': '명속성 저항', 'value': 19}\n",
      "{'name': '암속성 강화', 'value': 299}\n",
      "{'name': '암속성 저항', 'value': 164}\n",
      "{'name': '물리 방어', 'value': 45788}\n",
      "{'name': '마법 방어', 'value': 62688}\n",
      "{'name': '피해 증가', 'value': 166564}\n",
      "{'name': '버프력', 'value': 0}\n",
      "{'name': '피해 증가 %', 'value': 44}\n",
      "{'name': '버프력 %', 'value': 0}\n",
      "{'name': '스킬 공격력 증가', 'value': 1275.6}\n",
      "{'name': '쿨타임 감소', 'value': 0}\n",
      "{'name': '쿨타임 회복속도 증가', 'value': 0}\n",
      "{'name': '쿨타임 감소 실적용', 'value': 0}\n",
      "{'name': '데미지 증가', 'value': 0}\n",
      "{'name': '크리티컬 데미지 증가', 'value': 0}\n",
      "{'name': '추가 데미지 증가', 'value': 0}\n",
      "{'name': '모든 공격력 증가', 'value': 0}\n",
      "{'name': '물리 공격력 증가', 'value': 0}\n",
      "{'name': '마법 공격력 증가', 'value': 0}\n",
      "{'name': '독립 공격력 증가', 'value': 0}\n",
      "{'name': '힘 증가', 'value': 0}\n",
      "{'name': '지능 증가', 'value': 0}\n",
      "{'name': '지속피해', 'value': 0}\n",
      "{'name': '물리 피해 감소', 'value': 0}\n",
      "{'name': '마법 피해 감소', 'value': 0}\n",
      "{'name': '출혈 데미지 전환', 'value': 50}\n",
      "{'name': '중독 데미지 전환', 'value': 0}\n",
      "{'name': '화상 데미지 전환', 'value': 0}\n",
      "{'name': '감전 데미지 전환', 'value': 0}\n",
      "{'name': '출혈 내성', 'value': -10}\n",
      "{'name': '중독 내성', 'value': 15}\n",
      "{'name': '화상 내성', 'value': 0}\n",
      "{'name': '감전 내성', 'value': 0}\n",
      "{'name': '빙결 내성', 'value': 0}\n",
      "{'name': '둔화 내성', 'value': 10}\n",
      "{'name': '기절 내성', 'value': 0}\n",
      "{'name': '저주 내성', 'value': 10}\n",
      "{'name': '암흑 내성', 'value': 0}\n",
      "{'name': '석화 내성', 'value': 0}\n",
      "{'name': '수면 내성', 'value': 0}\n",
      "{'name': '혼란 내성', 'value': 0}\n",
      "{'name': '구속 내성', 'value': 10}\n"
     ]
    }
   ],
   "source": [
    "for i in b['status'] : \n",
    "    print(i)"
   ]
  },
  {
   "cell_type": "code",
   "execution_count": null,
   "id": "a9764d8c-02cd-46e5-93df-2b513bce52f5",
   "metadata": {},
   "outputs": [],
   "source": []
  }
 ],
 "metadata": {
  "kernelspec": {
   "display_name": "Python 3 (ipykernel)",
   "language": "python",
   "name": "python3"
  },
  "language_info": {
   "codemirror_mode": {
    "name": "ipython",
    "version": 3
   },
   "file_extension": ".py",
   "mimetype": "text/x-python",
   "name": "python",
   "nbconvert_exporter": "python",
   "pygments_lexer": "ipython3",
   "version": "3.10.9"
  }
 },
 "nbformat": 4,
 "nbformat_minor": 5
}
