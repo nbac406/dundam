{
 "cells": [
  {
   "cell_type": "code",
   "execution_count": 6,
   "metadata": {},
   "outputs": [],
   "source": [
    "import requests\n",
    "import json\n",
    "import pandas as pd\n",
    "import itertools\n",
    "from urllib import parse\n",
    "import time\n",
    "import numpy as np\n",
    "import pickle"
   ]
  },
  {
   "cell_type": "code",
   "execution_count": 7,
   "metadata": {},
   "outputs": [
    {
     "name": "stdout",
     "output_type": "stream",
     "text": [
      "Mozilla/5.0 (Windows NT 6.2; Win64; x64) AppleWebKit/537.36 (KHTML, like Gecko) Chrome/83.0.4103.106 Safari/537.36\n",
      "Mozilla/5.0 (Windows NT 6.2; rv:47.0) Gecko/20100101 Firefox/47.0\n",
      "Mozilla/5.0 (Macintosh; Intel Mac OS X 10.12; rv:48.0) Gecko/20100101 Firefox/48.0\n",
      "{'os_id': 'win', 'navigator_id': 'chrome', 'platform': 'Windows NT 5.1; WOW64', 'oscpu': 'Windows NT 5.1; WOW64', 'build_version': '85.0.4183.81', 'build_id': None, 'app_version': '5.0 (Windows NT 5.1; WOW64) AppleWebKit/537.36 (KHTML, like Gecko) Chrome/85.0.4183.81 Safari/537.36', 'app_name': 'Netscape', 'app_code_name': 'Mozilla', 'product': 'Gecko', 'product_sub': '20030107', 'vendor': 'Google Inc.', 'vendor_sub': '', 'user_agent': 'Mozilla/5.0 (Windows NT 5.1; WOW64) AppleWebKit/537.36 (KHTML, like Gecko) Chrome/85.0.4183.81 Safari/537.36'}\n",
      "Windows NT 5.1; WOW64\n"
     ]
    }
   ],
   "source": [
    "# 크롤링 우회\n",
    "from user_agent import generate_user_agent, generate_navigator\n",
    "\n",
    "print(generate_user_agent(device_type='desktop'))\n",
    "print(generate_user_agent(os='win', device_type='desktop'))\n",
    "print(generate_user_agent(os=('mac', 'linux'), device_type='desktop'))\n",
    "\n",
    "navigator = generate_navigator()\n",
    "print(navigator)\n",
    "print(navigator['platform'])"
   ]
  },
  {
   "cell_type": "code",
   "execution_count": 8,
   "metadata": {},
   "outputs": [],
   "source": [
    "from bs4 import BeautifulSoup as BS\n",
    "import csv\n",
    "import pandas as pd\n",
    "from selenium import webdriver\n",
    "from selenium.webdriver.common.by import By\n",
    "import time \n",
    "import requests\n",
    "import os"
   ]
  },
  {
   "cell_type": "code",
   "execution_count": 12,
   "metadata": {},
   "outputs": [
    {
     "name": "stderr",
     "output_type": "stream",
     "text": [
      "The chromedriver version (116.0.5845.96) detected in PATH at c:\\myproject\\dunfa\\chromedriver.exe might not be compatible with the detected chrome version (117.0.5938.149); currently, chromedriver 117.0.5938.149 is recommended for chrome 117.*, so it is advised to delete the driver in PATH and retry\n"
     ]
    }
   ],
   "source": [
    "driver = webdriver.Chrome()\n",
    "\n",
    "name_list = []\n",
    "server_list = []\n",
    "damage_list = []\n",
    "val_list = []\n",
    "\n",
    "for i in range(1,101) : \n",
    "    url = \"https://dundam.xyz/damage_ranking?page={}&type=7&job=%E7%9C%9E%20%EC%9B%A8%ED%8E%80%EB%A7%88%EC%8A%A4%ED%84%B0&baseJob=%EA%B7%80%EA%B2%80%EC%82%AC(%EB%82%A8)&weaponType=%EC%A0%84%EC%B2%B4&weaponDetail=%EC%A0%84%EC%B2%B4\"\n",
    "    driver.get(url.format(i))\n",
    "    time.sleep(2)\n",
    "    name_list += [x.text for x in driver.find_elements(By.CLASS_NAME,'nik')]\n",
    "    server_list += [k.text for k in driver.find_elements(By.CLASS_NAME,'svname')]\n",
    "    damage_list += [j.text for j in driver.find_elements(By.CLASS_NAME,'damegen')]\n",
    "    val_list += [y.text for y in driver.find_elements(By.CLASS_NAME, 'val')]\n",
    "\n",
    "    name_list = \" \".join(name_list).split()\n",
    "    server_list = \" \".join(server_list).split()\n",
    "    damage_list = \" \".join(damage_list).split()\n",
    "    val_list = \" \".join(val_list).split()\n"
   ]
  },
  {
   "cell_type": "code",
   "execution_count": 41,
   "metadata": {},
   "outputs": [],
   "source": [
    "import pymysql\n",
    "\n",
    "# MySQL 연결 정보 설정\n",
    "conn = pymysql.connect(host='127.0.0.1', user='root', password='1234', db='dun', charset='utf8')\n",
    "\n",
    "cur = conn.cursor()\n"
   ]
  },
  {
   "cell_type": "code",
   "execution_count": 44,
   "metadata": {},
   "outputs": [],
   "source": [
    "for name, server, damage, val in zip(name_list, server_list, damage_list, val_list):\n",
    "    # 데이터를 삽입할 SQL 쿼리 생성\n",
    "    insert_query = \"INSERT INTO dundam_user (name, server, damage, val) VALUES (%s, %s, %s, %s)\"\n",
    "    \n",
    "    # 데이터 삽입\n",
    "    cur.execute(insert_query, (name, server, damage, val))\n",
    "    \n",
    "conn.commit()"
   ]
  },
  {
   "cell_type": "code",
   "execution_count": null,
   "metadata": {},
   "outputs": [],
   "source": []
  }
 ],
 "metadata": {
  "kernelspec": {
   "display_name": "base",
   "language": "python",
   "name": "python3"
  },
  "language_info": {
   "codemirror_mode": {
    "name": "ipython",
    "version": 3
   },
   "file_extension": ".py",
   "mimetype": "text/x-python",
   "name": "python",
   "nbconvert_exporter": "python",
   "pygments_lexer": "ipython3",
   "version": "3.11.3"
  },
  "orig_nbformat": 4
 },
 "nbformat": 4,
 "nbformat_minor": 2
}
